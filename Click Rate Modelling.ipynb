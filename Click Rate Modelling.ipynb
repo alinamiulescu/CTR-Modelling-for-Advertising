{
 "cells": [
  {
   "cell_type": "markdown",
   "metadata": {},
   "source": [
    "## Click Rate Modelling\n",
    "_Hand in date: 2018-04-30_\n",
    "\n",
    "|** Name** | **Student id** | **E-mail** |\n",
    "|:- |:-|:-|\n",
    "| Claudia Miulescu | 11434805 |  miulescu.claudia@gmail.com|\n",
    "| Viswanathan Saravanan | 11417846 | viswanathan@live.in |\n",
    "| Varesh Tapadia | 11434678 | varesh.tapadia@gmail.com |\n",
    "| Bas den Heijer | 11434791 | bas.denheijer@ortec.com |"
   ]
  },
  {
   "cell_type": "markdown",
   "metadata": {},
   "source": [
    "## Setup\n",
    "Some configuration. We expect the train.gz from https://www.kaggle.com/c/avazu-ctr-prediction/data (1.117.527.809 bytes). No need to extract it, but it also works if the file is already extracted."
   ]
  },
  {
   "cell_type": "code",
   "execution_count": 1,
   "metadata": {},
   "outputs": [],
   "source": [
    "# Input\n",
    "input_file = 'train.gz'\n",
    "total_rows_in_file = 40428967 # Used for progress indication (None for unknown)\n",
    "\n",
    "ultimate_answer = 42\n",
    "seed = ultimate_answer # Used in train/test split.\n",
    "\n",
    "records_per_chunk = 1e5\n",
    "subset = 5*records_per_chunk # Run everything on a smaller subset of the file (for debugging), None for whole file.\n",
    "subset = int(0.01*total_rows_in_file)\n",
    "subset = None\n",
    "sampled_df_frac = 0.01 # The sample fraction we use to do feature selection and grid search (should fit in memory)\n",
    "\n",
    "print_processing_time = True\n",
    "test_frac = 0.25 # Part of data to use for verification.\n",
    "\n",
    "dropped_columns = ['id', 'device_id', 'device_ip', 'site_id', 'site_domain', 'app_id', 'device_model', 'C14']"
   ]
  },
  {
   "cell_type": "markdown",
   "metadata": {},
   "source": [
    "The imports:"
   ]
  },
  {
   "cell_type": "code",
   "execution_count": 2,
   "metadata": {},
   "outputs": [],
   "source": [
    "import random\n",
    "import sys\n",
    "import time\n",
    "import gzip\n",
    "import csv\n",
    "import datetime\n",
    "import os.path\n",
    "\n",
    "import pandas as pd\n",
    "import numpy as np\n",
    "import sklearn\n",
    "import matplotlib.pyplot as plt\n",
    "\n",
    "from sklearn.model_selection import train_test_split\n",
    "from sklearn.naive_bayes import BernoulliNB\n",
    "from sklearn.linear_model import SGDClassifier\n",
    "from sklearn.linear_model import PassiveAggressiveClassifier\n",
    "from sklearn.externals import joblib\n",
    "from sklearn.model_selection import GridSearchCV\n",
    "from sklearn.metrics import log_loss, mean_squared_error\n",
    "\n",
    "from IPython.display import clear_output"
   ]
  },
  {
   "cell_type": "markdown",
   "metadata": {},
   "source": [
    "Version numbers for reference. Our machine has:\n",
    "\n",
    "```\n",
    "The Python version is 3.6.4 |Anaconda custom (64-bit)| (default, Jan 16 2018, 10:22:32) [MSC v.1900 64 bit (AMD64)]\n",
    "The pandas version is 0.22.0\n",
    "The numpy version is 1.14.0\n",
    "The scikit-learn version is 0.19.1\n",
    "```\n",
    "\n",
    "Especially the scikit-learn version is important if you're going to use the .pkl-files!"
   ]
  },
  {
   "cell_type": "code",
   "execution_count": 3,
   "metadata": {},
   "outputs": [
    {
     "name": "stdout",
     "output_type": "stream",
     "text": [
      "The Python version is 3.6.4 |Anaconda custom (64-bit)| (default, Jan 16 2018, 10:22:32) [MSC v.1900 64 bit (AMD64)]\n",
      "The pandas version is 0.22.0\n",
      "The numpy version is 1.14.0\n",
      "The scikit-learn version is 0.19.1\n"
     ]
    }
   ],
   "source": [
    "print('The Python version is ' + sys.version)\n",
    "print('The pandas version is ' + pd.__version__)\n",
    "print('The numpy version is ' + np.__version__)\n",
    "print('The scikit-learn version is ' + sklearn.__version__)"
   ]
  },
  {
   "cell_type": "markdown",
   "metadata": {},
   "source": [
    "### Result loader\n",
    "As some operations take a lot of time, try to load them from disk first:"
   ]
  },
  {
   "cell_type": "code",
   "execution_count": 4,
   "metadata": {},
   "outputs": [],
   "source": [
    "# Internal files\n",
    "column_values_file = 'column_values.pkl'\n",
    "naive_bayes_grid_file = 'naive_bayes_grid.pkl'\n",
    "naive_bayes_file = 'naive_bayes.pkl'\n",
    "logistic_regression_grid_file = 'logistic_regression_grid.pkl' \n",
    "logistic_regression_file = 'logistic_regression.pkl'"
   ]
  },
  {
   "cell_type": "code",
   "execution_count": 5,
   "metadata": {},
   "outputs": [],
   "source": [
    "def try_load(filename, func_otherwise, force=False):\n",
    "    if force or not os.path.isfile(filename):\n",
    "        result = func_otherwise()\n",
    "        print(\"Saving to %s\" % filename)\n",
    "        joblib.dump(result, filename)\n",
    "        return result\n",
    "    else:\n",
    "        print(\"Loading from %s\" % filename)\n",
    "        return joblib.load(filename)"
   ]
  },
  {
   "cell_type": "markdown",
   "metadata": {},
   "source": [
    "## Reading in the data\n",
    "Set up some convenient functions to read in the data in bits, so we never have to keep all of it in memory. Otherwise this feeble laptop catches fire."
   ]
  },
  {
   "cell_type": "markdown",
   "metadata": {},
   "source": [
    "Make a nice generator we can use to iterate over the complete file in parts. You can select the training or test set, or get both. (It will read the complete file from disk every time, but only return a subset of the data.)\n",
    "\n",
    "We use a random sample of the complete data as the test data."
   ]
  },
  {
   "cell_type": "code",
   "execution_count": 6,
   "metadata": {},
   "outputs": [],
   "source": [
    "def chunked_file(flavor):\n",
    "    \"\"\"flavor is one of ['train', 'test', 'all'].\"\"\"\n",
    "    assert flavor in ['train', 'test', 'all']\n",
    "    \n",
    "    rnd = random.Random(seed)\n",
    "    \n",
    "    start_time = time.time()\n",
    "    \n",
    "    global total_rows_in_file\n",
    "    observed_rows = 0\n",
    "    expected_rows = subset\n",
    "    if expected_rows == None:\n",
    "        expected_rows = total_rows_in_file\n",
    "    \n",
    "    if print_processing_time: \n",
    "        print('Processing file: ...')\n",
    "    \n",
    "    for chunk in pd.read_csv(input_file, chunksize=records_per_chunk, nrows=subset):\n",
    "        my_seed = rnd.randint(0, 2**32-1) # Seed for a numpy.random.RandomState\n",
    "        observed_rows += chunk.shape[0]\n",
    "        \n",
    "        if flavor == 'all':\n",
    "            yield chunk\n",
    "        else:\n",
    "            train, test = train_test_split(chunk, test_size=test_frac, random_state=my_seed)\n",
    "            yield {'train': train, 'test': test}[flavor]\n",
    "        \n",
    "        if total_rows_in_file != None:\n",
    "            pct_done = observed_rows / expected_rows * 100\n",
    "            eta = datetime.timedelta(seconds=(time.time() - start_time) / observed_rows * (expected_rows - observed_rows))\n",
    "            if print_processing_time: \n",
    "                clear_output(wait=True)\n",
    "                print('Processing file: %.2f%% (eta: %s)' % (pct_done, str(eta)))\n",
    "    \n",
    "    total_rows_in_file = observed_rows\n",
    "    if print_processing_time: \n",
    "        clear_output(wait=True)\n",
    "        print('Processing file: Done, took %s.' % str(datetime.timedelta(seconds=(time.time() - start_time))))"
   ]
  },
  {
   "cell_type": "markdown",
   "metadata": {},
   "source": [
    "### Reading in a sample in memory\n",
    "For some parts of the code we need to see the whole dataset in memory, which unfortunately doesn't fit. Here is a function that reads through the whole file, but only concatenates a subset into one DataFrame. We use this for feature and parameter selection."
   ]
  },
  {
   "cell_type": "code",
   "execution_count": 7,
   "metadata": {},
   "outputs": [],
   "source": [
    "def sampled_file(frac=.01, flavor='train'):\n",
    "    \"\"\"Get a part of the data, but all in memory.\"\"\"\n",
    "    df = pd.DataFrame()\n",
    "    rnd = random.Random(seed+1)\n",
    "    \n",
    "    return pd.concat((chunk.sample(frac=frac, random_state=rnd.randint(0, 2**32-1)) for chunk in chunked_file(flavor)),\n",
    "                     ignore_index=True)"
   ]
  },
  {
   "cell_type": "code",
   "execution_count": 8,
   "metadata": {},
   "outputs": [
    {
     "name": "stdout",
     "output_type": "stream",
     "text": [
      "Processing file: Done, took 0:03:08.926696.\n"
     ]
    }
   ],
   "source": [
    "sampled_df = sampled_file(frac=sampled_df_frac)"
   ]
  },
  {
   "cell_type": "markdown",
   "metadata": {},
   "source": [
    "## Data Preparation"
   ]
  },
  {
   "cell_type": "markdown",
   "metadata": {},
   "source": [
    "### Find out all categories\n",
    "All our columns will be categories. To use these with the scikit-learn algorithms, they will be converted to binary variables. Each possible value will get their own column, so, effectively, we need to know all possible values for each column before starting."
   ]
  },
  {
   "cell_type": "markdown",
   "metadata": {},
   "source": [
    "Unique values in the data:\n",
    "\n",
    "| Column | Unique values in the data |\n",
    "|---|---|\n",
    "| id | 40428967 |\n",
    "| click | 2 |\n",
    "| hour | 240 |\n",
    "| C1 | 7 |\n",
    "| banner_pos | 7 |\n",
    "| site_id | 4737 |\n",
    "| site_domain | 7745 |\n",
    "| site_category | 26 |\n",
    "| app_id | 8552 |\n",
    "| app_domain | 559 |\n",
    "| app_category | 36 |\n",
    "| device_id | 2686408 |\n",
    "| device_ip | 6729486 |\n",
    "| device_model | 8251 |\n",
    "| device_type | 5 |\n",
    "| device_conn_type | 4 |\n",
    "| C14 | 2626 |\n",
    "| C15 | 8 |\n",
    "| C16 | 9 |\n",
    "| C17 | 435 |\n",
    "| C18 | 4 |\n",
    "| C19 | 68 |\n",
    "| C20 | 172 |\n",
    "| C21 | 60 |"
   ]
  },
  {
   "cell_type": "markdown",
   "metadata": {},
   "source": [
    "Later, we will convert `hour` in 2 new columns with `day_of_week` and `time`."
   ]
  },
  {
   "cell_type": "code",
   "execution_count": 9,
   "metadata": {},
   "outputs": [],
   "source": [
    "def get_column_values(gz_file):\n",
    "    columns = None\n",
    "    column_values = None\n",
    "    \n",
    "    for chunk in chunked_file('all'):\n",
    "        if columns == None:\n",
    "            columns = set(chunk.columns) - set(dropped_columns + ['hour'])\n",
    "            column_values = {col: set() for col in columns}\n",
    "        for col in columns:\n",
    "            column_values[col] = column_values[col].union(chunk[col])\n",
    "    \n",
    "    column_values['day_of_week'] = list(range(0,7))\n",
    "    column_values['time'] = list(range(0,24))\n",
    "    \n",
    "    return column_values"
   ]
  },
  {
   "cell_type": "code",
   "execution_count": 10,
   "metadata": {
    "scrolled": true
   },
   "outputs": [
    {
     "name": "stdout",
     "output_type": "stream",
     "text": [
      "Processing file: Done, took 0:03:11.333163.\n",
      "Saving to column_values.pkl\n"
     ]
    }
   ],
   "source": [
    "column_values = try_load(column_values_file, lambda: get_column_values(input_file))"
   ]
  },
  {
   "cell_type": "markdown",
   "metadata": {},
   "source": [
    "### Clean up data"
   ]
  },
  {
   "cell_type": "code",
   "execution_count": 11,
   "metadata": {},
   "outputs": [],
   "source": [
    "def prepare_data(df):\n",
    "    df = clean_data(df)\n",
    "    df = dummify_data(df)\n",
    "    df = remove_irrelevant_columns(df)\n",
    "    return extract_data(df)"
   ]
  },
  {
   "cell_type": "code",
   "execution_count": 12,
   "metadata": {},
   "outputs": [],
   "source": [
    "def clean_data(df):\n",
    "    df = df.dropna(how='any')\n",
    "\n",
    "    #Drop the 'id', 'device_id', 'device_ip' columns\n",
    "    df = df.drop(dropped_columns, axis=1)\n",
    "    \n",
    "    #Convert 'hour' field into datetime type\n",
    "    df['hour'] = df['hour'].astype(str)\n",
    "    df['hour'] = df['hour'].apply(lambda x: datetime.datetime.strptime(x,'%y%m%d%H'))\n",
    "\n",
    "    #Extract 'day of week' and 'hour of day' as separate columns\n",
    "    df['day_of_week'] = df['hour'].dt.dayofweek\n",
    "    df['time'] = df['hour'].dt.hour\n",
    "\n",
    "    #Drop the hour column\n",
    "    df = df.drop('hour', axis=1)\n",
    "    \n",
    "    return df"
   ]
  },
  {
   "cell_type": "code",
   "execution_count": 13,
   "metadata": {},
   "outputs": [],
   "source": [
    "def dummify_data(df):\n",
    "    # Create dummies for every ordinal variables (or group of ordinal var) to distinguish between\n",
    "    # the effects of each different values.\n",
    "    columns = set(df.columns) - set(['click'])\n",
    "    \n",
    "    for col in columns:\n",
    "        df[col] = pd.Categorical(df[col], categories=column_values[col])\n",
    "\n",
    "    df = pd.get_dummies(df, columns=columns)\n",
    "\n",
    "    return df"
   ]
  },
  {
   "cell_type": "code",
   "execution_count": 14,
   "metadata": {},
   "outputs": [],
   "source": [
    "def extract_data(df):\n",
    "    #Extract Y\n",
    "    y = df['click']\n",
    "    #Extract X\n",
    "    X = df.drop(['click'], axis=1)\n",
    "    return X, y"
   ]
  },
  {
   "cell_type": "markdown",
   "metadata": {},
   "source": [
    "## Feature Selection\n",
    "We use an online feature selection model to extract the most important variables from the training dataset. The goal is to reduce the amount of time spent in fitting the classification models. "
   ]
  },
  {
   "cell_type": "code",
   "execution_count": 15,
   "metadata": {},
   "outputs": [],
   "source": [
    "#Use partial training data for the feature selection model\n",
    "def get_irrelevant_columns_from_model():\n",
    "    df = clean_data(sampled_df)\n",
    "    df = dummify_data(df)\n",
    "    X, y = extract_data(df)\n",
    " \n",
    "    time_fit = -time.time()\n",
    "    clf = PassiveAggressiveClassifier(C = 0.01, random_state = seed).fit(X, y)\n",
    "    time_fit += time.time()\n",
    "\n",
    "    irr_col = []\n",
    "    #Build the list of irrelevant columns based on the online classifier  \n",
    "    column_names = df.drop(['click'], axis=1).columns\n",
    "    for coef, name in zip(clf.coef_[0], column_names):\n",
    "        if coef == 0:\n",
    "            irr_col.append(name)\n",
    "\n",
    "    print(\"Irrelevant features according to PA model: %d / %d\" % (len(irr_col), len(column_names)))\n",
    "    print('Time taken: %s' % str(datetime.timedelta(seconds=time_fit)))\n",
    "    return irr_col"
   ]
  },
  {
   "cell_type": "code",
   "execution_count": 16,
   "metadata": {},
   "outputs": [
    {
     "name": "stderr",
     "output_type": "stream",
     "text": [
      "C:\\Simpel\\Anaconda2\\envs\\Python3\\lib\\site-packages\\sklearn\\linear_model\\stochastic_gradient.py:128: FutureWarning: max_iter and tol parameters have been added in <class 'sklearn.linear_model.passive_aggressive.PassiveAggressiveClassifier'> in 0.19. If both are left unset, they default to max_iter=5 and tol=None. If tol is not None, max_iter defaults to max_iter=1000. From 0.21, default max_iter will be 1000, and default tol will be 1e-3.\n",
      "  \"and default tol will be 1e-3.\" % type(self), FutureWarning)\n"
     ]
    },
    {
     "name": "stdout",
     "output_type": "stream",
     "text": [
      "Irrelevant features according to PA model: 511 / 1431\n",
      "Time taken: 0:00:14.773644\n"
     ]
    }
   ],
   "source": [
    "irrelevant_columns = get_irrelevant_columns_from_model()"
   ]
  },
  {
   "cell_type": "code",
   "execution_count": 17,
   "metadata": {},
   "outputs": [],
   "source": [
    "def remove_irrelevant_columns(df):    \n",
    "    df = df.drop(irrelevant_columns, axis=1)\n",
    "    return df"
   ]
  },
  {
   "cell_type": "markdown",
   "metadata": {},
   "source": [
    "## Naive Bayes"
   ]
  },
  {
   "cell_type": "markdown",
   "metadata": {},
   "source": [
    "### Parameter search\n",
    "The sklearn Naive Bayes class (BernoulliNB: http://scikit-learn.org/stable/modules/generated/sklearn.naive_bayes.BernoulliNB.html) has a parameter `alpha` that determines the \"Additive (Laplace/Lidstone) smoothing parameter (0 for no smoothing).\"\n",
    "\n",
    "We try a 'grid' search on the parameter on the smaller sample data (so it doesn't take forever)."
   ]
  },
  {
   "cell_type": "code",
   "execution_count": 18,
   "metadata": {},
   "outputs": [],
   "source": [
    "X_sample, y_sample = prepare_data(sampled_df)"
   ]
  },
  {
   "cell_type": "code",
   "execution_count": 19,
   "metadata": {},
   "outputs": [],
   "source": [
    "# This block is mostly copied from Bas' Machine Learning assignment\n",
    "def try_model(model, param_grid, X, y):\n",
    "    grid = GridSearchCV(model, param_grid, return_train_score=True, cv=5, scoring='neg_log_loss', verbose=10, n_jobs=3)\n",
    "    grid.fit(X, y)\n",
    "    \n",
    "    model_name = type(model).__name__\n",
    "    print('%s (params=%s): %f' % (model_name, grid.best_params_, grid.best_score_))\n",
    "    if len(param_grid) == 1:\n",
    "        plot_validation(grid, 'Validation Curve: %s' % model_name)\n",
    "    \n",
    "    return grid\n",
    "\n",
    "def plot_validation(grid_results, title):\n",
    "    # Inspired by http://scikit-learn.org/stable/auto_examples/model_selection/plot_validation_curve.html\n",
    "    train_scores_mean = grid_results.cv_results_['mean_train_score']\n",
    "    train_scores_std = grid_results.cv_results_['std_train_score']\n",
    "    test_scores_mean = grid_results.cv_results_['mean_test_score']\n",
    "    test_scores_std = grid_results.cv_results_['std_test_score']\n",
    "\n",
    "    param, = grid_results.best_params_.keys()\n",
    "    param_values = [v[param] for v in grid_results.cv_results_['params']]\n",
    "    \n",
    "    plt.title(title)\n",
    "    plt.xlabel(param)\n",
    "    plt.ylabel('Score')\n",
    "\n",
    "    if param_values[-1] / param_values[0] > 1e4:\n",
    "        plt.xscale('log')\n",
    "    plt.plot(param_values, train_scores_mean, label='Training score', color='tab:orange')\n",
    "    plt.fill_between(param_values, train_scores_mean - train_scores_std, train_scores_mean + train_scores_std,\n",
    "                     alpha=0.2, color='tab:orange')\n",
    "    plt.plot(param_values, test_scores_mean, label='Cross-validation score', color='tab:blue')\n",
    "    plt.fill_between(param_values, test_scores_mean - test_scores_std, test_scores_mean + test_scores_std,\n",
    "                     alpha=0.2, color='tab:blue')\n",
    "    plt.legend(loc='best')\n",
    "    plt.show()"
   ]
  },
  {
   "cell_type": "code",
   "execution_count": 20,
   "metadata": {},
   "outputs": [
    {
     "name": "stdout",
     "output_type": "stream",
     "text": [
      "Fitting 5 folds for each of 6 candidates, totalling 30 fits\n"
     ]
    },
    {
     "name": "stderr",
     "output_type": "stream",
     "text": [
      "[Parallel(n_jobs=3)]: Done   2 tasks      | elapsed:   29.5s\n",
      "[Parallel(n_jobs=3)]: Done   7 tasks      | elapsed:  1.4min\n",
      "[Parallel(n_jobs=3)]: Done  12 tasks      | elapsed:  1.9min\n",
      "[Parallel(n_jobs=3)]: Done  19 tasks      | elapsed:  3.3min\n",
      "[Parallel(n_jobs=3)]: Done  30 out of  30 | elapsed:  4.8min finished\n"
     ]
    },
    {
     "name": "stdout",
     "output_type": "stream",
     "text": [
      "BernoulliNB (params={'alpha': 100.0}): -0.758653\n"
     ]
    },
    {
     "data": {
      "image/png": "[encoded data removed]",
      "text/plain": [
       "<matplotlib.figure.Figure at 0x1db4859ecf8>"
      ]
     },
     "metadata": {},
     "output_type": "display_data"
    },
    {
     "name": "stdout",
     "output_type": "stream",
     "text": [
      "Saving to naive_bayes_grid.pkl\n"
     ]
    }
   ],
   "source": [
    "naive_bayes_grid = try_load(naive_bayes_grid_file,\n",
    "                            lambda: try_model(BernoulliNB(), {'alpha': np.logspace(-2, 3, 6)}, X_sample, y_sample))"
   ]
  },
  {
   "cell_type": "code",
   "execution_count": 21,
   "metadata": {},
   "outputs": [
    {
     "name": "stdout",
     "output_type": "stream",
     "text": [
      "Best alpha: 100.000000 (= 10^2.000000)\n",
      " gives score: -0.758653\n"
     ]
    }
   ],
   "source": [
    "print('Best alpha: %f (= 10^%f)' % (naive_bayes_grid.best_params_['alpha'], np.log10(naive_bayes_grid.best_params_['alpha'])))\n",
    "print(' gives score: %f' % naive_bayes_grid.best_score_)"
   ]
  },
  {
   "cell_type": "markdown",
   "metadata": {},
   "source": [
    "### Training the model"
   ]
  },
  {
   "cell_type": "code",
   "execution_count": 22,
   "metadata": {
    "scrolled": false
   },
   "outputs": [],
   "source": [
    "def train_model(model):\n",
    "    time_total = 0\n",
    "    time_prepare = 0\n",
    "    time_fit = 0\n",
    "\n",
    "    time_total -= time.time()\n",
    "\n",
    "    for chunk in chunked_file('train'):\n",
    "        time_prepare -= time.time()\n",
    "        X, y = prepare_data(chunk)\n",
    "        time_prepare += time.time()\n",
    "\n",
    "        time_fit -= time.time()\n",
    "        model.partial_fit(X, y, classes=[0,1])\n",
    "        time_fit += time.time()\n",
    "\n",
    "    time_total += time.time()\n",
    "\n",
    "    print('Total time: %ss' % time_total)\n",
    "    print(' Reading time: %ss' % (time_total - time_prepare - time_fit))\n",
    "    print(' Prepare time: %ss' % time_prepare)\n",
    "    print(' Fit time: %ss' % time_fit)\n",
    "    \n",
    "    return model"
   ]
  },
  {
   "cell_type": "markdown",
   "metadata": {},
   "source": [
    "Do the Naive Bayes training, but try to load it from disk first as that will take a lot of time!"
   ]
  },
  {
   "cell_type": "code",
   "execution_count": 23,
   "metadata": {},
   "outputs": [
    {
     "name": "stdout",
     "output_type": "stream",
     "text": [
      "Processing file: Done, took 0:41:05.377819.\n",
      "Total time: 2465.3778188228607s\n",
      " Reading time: 191.08253526687622s\n",
      " Prepare time: 945.0594277381897s\n",
      " Fit time: 1329.2358558177948s\n",
      "Saving to naive_bayes.pkl\n"
     ]
    }
   ],
   "source": [
    "naive_bayes = try_load(naive_bayes_file,\n",
    "                       lambda: train_model(BernoulliNB(alpha=naive_bayes_grid.best_params_['alpha'])))"
   ]
  },
  {
   "cell_type": "markdown",
   "metadata": {},
   "source": [
    "### Scoring the test subset\n",
    "With the fitting model, we can score the test set."
   ]
  },
  {
   "cell_type": "code",
   "execution_count": 24,
   "metadata": {},
   "outputs": [],
   "source": [
    "def score_model(model):\n",
    "    time_total = 0\n",
    "    time_prepare = 0\n",
    "    time_predict = 0\n",
    "    time_score = 0\n",
    "    \n",
    "    log_loss_sum = 0\n",
    "    sse_sum = 0\n",
    "    records = 0\n",
    "    \n",
    "    time_total -= time.time()\n",
    "    \n",
    "    for chunk in chunked_file('test'):\n",
    "        time_prepare -= time.time()\n",
    "        X, y = prepare_data(chunk)\n",
    "        time_prepare += time.time()\n",
    "\n",
    "        time_predict -= time.time()\n",
    "        y_hat = model.predict_proba(X)[:,1]\n",
    "        time_predict += time.time()\n",
    "\n",
    "        time_score -= time.time()\n",
    "        log_loss_sum += log_loss(y, y_hat, normalize=False)\n",
    "        sse_sum += np.sum((y - y_hat) ** 2)\n",
    "        records += len(y)\n",
    "        time_score += time.time()\n",
    "        \n",
    "    time_total += time.time()\n",
    "\n",
    "    print('Sample size: %d' % records)\n",
    "    print('Log loss: %f' % log_loss_sum)\n",
    "    print('SSE: %f' % sse_sum)\n",
    "    print('Average Log loss: %f' % (log_loss_sum / records))\n",
    "    print('MSE: %f' % (sse_sum / records))\n",
    "    \n",
    "    print()\n",
    "    \n",
    "    print('Total time: %ss' % time_total)\n",
    "    print(' Reading time: %ss' % (time_total - time_prepare - time_predict - time_score))\n",
    "    print(' Prepare time: %ss' % time_prepare)\n",
    "    print(' Predict time: %ss' % time_predict)\n",
    "    print(' Scoring time: %ss' % time_score)"
   ]
  },
  {
   "cell_type": "code",
   "execution_count": 25,
   "metadata": {},
   "outputs": [
    {
     "name": "stdout",
     "output_type": "stream",
     "text": [
      "Processing file: Done, took 0:13:16.806606.\n",
      "Sample size: 10107242\n",
      "Log loss: 7705169.631059\n",
      "SSE: 1996610.849564\n",
      "Average Log loss: 0.762341\n",
      "MSE: 0.197543\n",
      "\n",
      "Total time: 796.8076055049896s\n",
      " Reading time: 182.19911551475525s\n",
      " Prepare time: 287.35280537605286s\n",
      " Predict time: 324.41832852363586s\n",
      " Scoring time: 2.8373560905456543s\n"
     ]
    }
   ],
   "source": [
    "score_model(naive_bayes)"
   ]
  },
  {
   "cell_type": "markdown",
   "metadata": {},
   "source": [
    "## Logistic Regression"
   ]
  },
  {
   "cell_type": "markdown",
   "metadata": {},
   "source": [
    "### Model Parameter Selection\n",
    "\n",
    "For selecting the model parameters, we ran various models against the training data set and based on the F1 score, picked up the best model"
   ]
  },
  {
   "cell_type": "code",
   "execution_count": 26,
   "metadata": {},
   "outputs": [
    {
     "name": "stdout",
     "output_type": "stream",
     "text": [
      "Fitting 5 folds for each of 8 candidates, totalling 40 fits\n"
     ]
    },
    {
     "name": "stderr",
     "output_type": "stream",
     "text": [
      "[Parallel(n_jobs=3)]: Done   2 tasks      | elapsed:   15.7s\n",
      "[Parallel(n_jobs=3)]: Done   7 tasks      | elapsed:   39.3s\n",
      "[Parallel(n_jobs=3)]: Done  12 tasks      | elapsed:   54.6s\n",
      "[Parallel(n_jobs=3)]: Done  19 tasks      | elapsed:  1.5min\n",
      "[Parallel(n_jobs=3)]: Done  26 tasks      | elapsed:  2.0min\n",
      "[Parallel(n_jobs=3)]: Done  35 tasks      | elapsed:  2.6min\n",
      "[Parallel(n_jobs=3)]: Done  40 out of  40 | elapsed:  3.0min remaining:    0.0s\n",
      "[Parallel(n_jobs=3)]: Done  40 out of  40 | elapsed:  3.0min finished\n",
      "C:\\Simpel\\Anaconda2\\envs\\Python3\\lib\\site-packages\\sklearn\\linear_model\\stochastic_gradient.py:128: FutureWarning: max_iter and tol parameters have been added in <class 'sklearn.linear_model.stochastic_gradient.SGDClassifier'> in 0.19. If both are left unset, they default to max_iter=5 and tol=None. If tol is not None, max_iter defaults to max_iter=1000. From 0.21, default max_iter will be 1000, and default tol will be 1e-3.\n",
      "  \"and default tol will be 1e-3.\" % type(self), FutureWarning)\n"
     ]
    },
    {
     "name": "stdout",
     "output_type": "stream",
     "text": [
      "SGDClassifier (params={'alpha': 0.01}): -0.432576\n"
     ]
    },
    {
     "data": {
      "image/png": "[encoded data removed]",
      "text/plain": [
       "<matplotlib.figure.Figure at 0x1db4e7ea080>"
      ]
     },
     "metadata": {},
     "output_type": "display_data"
    },
    {
     "name": "stdout",
     "output_type": "stream",
     "text": [
      "Saving to logistic_regression_grid.pkl\n"
     ]
    }
   ],
   "source": [
    "logistic_regression_grid = try_load(logistic_regression_grid_file,\n",
    "                            lambda: try_model(SGDClassifier(loss='log'), {'alpha': np.logspace(-5, 2, 8)}, X_sample, y_sample))"
   ]
  },
  {
   "cell_type": "markdown",
   "metadata": {},
   "source": [
    "### Training the Model"
   ]
  },
  {
   "cell_type": "code",
   "execution_count": 27,
   "metadata": {},
   "outputs": [
    {
     "name": "stdout",
     "output_type": "stream",
     "text": [
      "Processing file: Done, took 0:25:44.845334.\n",
      "Total time: 1544.8453342914581s\n",
      " Reading time: 184.12029933929443s\n",
      " Prepare time: 945.797798871994s\n",
      " Fit time: 414.9272360801697s\n",
      "Saving to logistic_regression.pkl\n"
     ]
    }
   ],
   "source": [
    "logistic_regression = try_load(logistic_regression_file,\n",
    "                       lambda: train_model(SGDClassifier(alpha=logistic_regression_grid.best_params_['alpha'], loss='log')))"
   ]
  },
  {
   "cell_type": "code",
   "execution_count": 28,
   "metadata": {},
   "outputs": [
    {
     "name": "stdout",
     "output_type": "stream",
     "text": [
      "Processing file: Done, took 0:08:35.158113.\n",
      "Sample size: 10107242\n",
      "Log loss: 4337170.550466\n",
      "SSE: 1347397.564076\n",
      "Average Log loss: 0.429115\n",
      "MSE: 0.133310\n",
      "\n",
      "Total time: 515.1596143245697s\n",
      " Reading time: 184.3999080657959s\n",
      " Prepare time: 288.6251595020294s\n",
      " Predict time: 39.38824701309204s\n",
      " Scoring time: 2.7462997436523438s\n"
     ]
    }
   ],
   "source": [
    "score_model(logistic_regression)"
   ]
  }
 ],
 "metadata": {
  "kernelspec": {
   "display_name": "Python 3",
   "language": "python",
   "name": "python3"
  },
  "language_info": {
   "codemirror_mode": {
    "name": "ipython",
    "version": 3
   },
   "file_extension": ".py",
   "mimetype": "text/x-python",
   "name": "python",
   "nbconvert_exporter": "python",
   "pygments_lexer": "ipython3",
   "version": "3.6.4"
  }
 },
 "nbformat": 4,
 "nbformat_minor": 2
}
